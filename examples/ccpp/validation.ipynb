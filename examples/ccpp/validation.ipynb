{
 "cells": [
  {
   "cell_type": "code",
   "execution_count": 2,
   "metadata": {},
   "outputs": [],
   "source": [
    "import pandas as pd\n",
    "import json"
   ]
  },
  {
   "cell_type": "code",
   "execution_count": 3,
   "metadata": {},
   "outputs": [],
   "source": [
    "with open(\"ccpp_parsed.json\", \"r\") as f:\n",
    "    result = json.load(f)\n",
    "\n",
    "\n",
    "dfs_ebs = {}\n",
    "for key in [\"components\", \"connections\"]:\n",
    "    dfs_ebs[key] = pd.DataFrame.from_dict(result[key], orient=\"index\")"
   ]
  },
  {
   "cell_type": "code",
   "execution_count": 4,
   "metadata": {},
   "outputs": [],
   "source": [
    "with open(\"ccpp_tespy.json\", \"r\") as f:\n",
    "    result = json.load(f)\n",
    "\n",
    "\n",
    "dfs_tespy = {}\n",
    "for key in [\"components\", \"connections\"]:\n",
    "    dfs_tespy[key] = pd.DataFrame.from_dict(result[key], orient=\"index\")"
   ]
  },
  {
   "cell_type": "code",
   "execution_count": 5,
   "metadata": {},
   "outputs": [],
   "source": [
    "key = \"connections\"\n",
    "\n",
    "dfs_tespy[key][\"fluid_group\"] = None\n",
    "dfs_ebs[key][\"fluid_group\"] = None\n",
    "\n",
    "groups_compositions = {}\n",
    "\n",
    "for idx, row in dfs_tespy[key].iterrows():\n",
    "    rounded_fluids = {\n",
    "        k: round(v, 4) for k, v in row[\"mass_composition\"].items()\n",
    "    }\n",
    "    dfs_tespy[key].loc[idx, \"fluid_group\"] = f\"{rounded_fluids}\"\n",
    "\n",
    "dfs_tespy[key][\"dh\"] = 0.0\n",
    "dfs_tespy[key][\"ds\"] = 0.0\n",
    "for group in dfs_tespy[key][\"fluid_group\"].unique():\n",
    "    mask = dfs_tespy[key][\"fluid_group\"] == group\n",
    "    # reference_df = dfs_tespy[key].loc[mask, [\"h\", \"s\"]].copy()\n",
    "    # locator = reference_df.index.astype(int).min()\n",
    "    dfs_tespy[key].loc[mask, [\"dh\", \"ds\"]] = (dfs_tespy[key].loc[mask, [\"h\", \"s\"]].iloc[0] - dfs_tespy[key].loc[mask, [\"h\", \"s\"]]).values\n",
    "\n",
    "\n",
    "groups_compositions = {}\n",
    "\n",
    "for idx, row in dfs_ebs[key].iterrows():\n",
    "    if type(row[\"mass_composition\"]) == dict:\n",
    "        rounded_fluids = {\n",
    "            k: round(v, 4) for k, v in row[\"mass_composition\"].items()\n",
    "        }\n",
    "        dfs_ebs[key].loc[idx, \"fluid_group\"] = f\"{rounded_fluids}\"\n",
    "    else:\n",
    "        continue\n",
    "\n",
    "dfs_ebs[key][\"dh\"] = 0.0\n",
    "dfs_ebs[key][\"ds\"] = 0.0\n",
    "for group in dfs_ebs[key][\"fluid_group\"].unique():\n",
    "    if group is not None:\n",
    "        mask = dfs_ebs[key][\"fluid_group\"] == group\n",
    "        reference_df = dfs_ebs[key].loc[mask, [\"h\", \"s\"]].copy()\n",
    "        locator = reference_df.index.astype(int).min().astype(str)\n",
    "        dfs_ebs[key].loc[mask, [\"dh\", \"ds\"]] = (dfs_ebs[key].loc[mask, [\"h\", \"s\"]].loc[locator] - dfs_ebs[key].loc[mask, [\"h\", \"s\"]]).values"
   ]
  },
  {
   "cell_type": "code",
   "execution_count": 6,
   "metadata": {},
   "outputs": [],
   "source": [
    "columns = [\"m\", \"p\", \"T\"]\n",
    "\n",
    "overlapping_index = list(set(dfs_tespy[key].index.tolist()) & set(dfs_ebs[key].index.tolist()))\n",
    "diff_to_tespy = (\n",
    "    dfs_ebs[key].loc[overlapping_index, columns]\n",
    "    - dfs_tespy[key].loc[overlapping_index, columns]\n",
    ").abs() / dfs_tespy[key].loc[overlapping_index, columns]\n",
    "diff_to_ebs = (\n",
    "    dfs_ebs[key].loc[overlapping_index, columns]\n",
    "    - dfs_tespy[key].loc[overlapping_index, columns]\n",
    ").abs() / dfs_tespy[key].loc[overlapping_index, columns]\n",
    "\n",
    "columns = [\"dh\", \"ds\"]\n",
    "diff_to_ebs[columns] = (\n",
    "    dfs_ebs[key].loc[overlapping_index, columns]\n",
    "    - dfs_tespy[key].loc[overlapping_index, columns]\n",
    ")"
   ]
  },
  {
   "cell_type": "code",
   "execution_count": null,
   "metadata": {},
   "outputs": [],
   "source": [
    "diff_to_ebs.index = diff_to_ebs.index.astype(int)\n",
    "diff_to_ebs.sort_index()"
   ]
  },
  {
   "cell_type": "code",
   "execution_count": null,
   "metadata": {},
   "outputs": [],
   "source": [
    "assert (diff_to_ebs < 1e-3).all().all()\n",
    "assert (diff_to_tespy < 1e-3).all().all()"
   ]
  }
 ],
 "metadata": {
  "kernelspec": {
   "display_name": "exerpy-env",
   "language": "python",
   "name": "python3"
  },
  "language_info": {
   "codemirror_mode": {
    "name": "ipython",
    "version": 3
   },
   "file_extension": ".py",
   "mimetype": "text/x-python",
   "name": "python",
   "nbconvert_exporter": "python",
   "pygments_lexer": "ipython3",
   "version": "3.11.9"
  }
 },
 "nbformat": 4,
 "nbformat_minor": 2
}
