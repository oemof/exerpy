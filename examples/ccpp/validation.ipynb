{
 "cells": [
  {
   "cell_type": "code",
   "execution_count": 17,
   "metadata": {},
   "outputs": [],
   "source": [
    "import pandas as pd\n",
    "import numpy as np\n",
    "import json"
   ]
  },
  {
   "cell_type": "code",
   "execution_count": 18,
   "metadata": {},
   "outputs": [],
   "source": [
    "with open(\"ccpp_parsed.json\", \"r\") as f:\n",
    "    result = json.load(f)\n",
    "\n",
    "\n",
    "dfs_ebs = {}\n",
    "for key in [\"components\", \"connections\"]:\n",
    "    dfs_ebs[key] = pd.DataFrame.from_dict(result[key], orient=\"index\").sort_index()"
   ]
  },
  {
   "cell_type": "code",
   "execution_count": 19,
   "metadata": {},
   "outputs": [],
   "source": [
    "with open(\"ccpp_tespy.json\", \"r\") as f:\n",
    "    result = json.load(f)\n",
    "\n",
    "\n",
    "dfs_tespy = {}\n",
    "for key in [\"components\", \"connections\"]:\n",
    "    dfs_tespy[key] = pd.DataFrame.from_dict(result[key], orient=\"index\").sort_index()"
   ]
  },
  {
   "cell_type": "code",
   "execution_count": 20,
   "metadata": {},
   "outputs": [],
   "source": [
    "dfs_ebs[\"connections\"][[\"e_T\", \"e_M\"]] = dfs_ebs[\"connections\"][[\"e_T\", \"e_M\"]].round(6)\n",
    "dfs_tespy[\"connections\"][[\"e_T\", \"e_M\"]] = dfs_tespy[\"connections\"][[\"e_T\", \"e_M\"]].round(6)"
   ]
  },
  {
   "cell_type": "code",
   "execution_count": 21,
   "metadata": {},
   "outputs": [],
   "source": [
    "columns = [\"m\", \"p\", \"T\", \"e_T\", \"e_M\"]\n",
    "\n",
    "overlapping_index = list(set(dfs_tespy[key].index.tolist()) & set(dfs_ebs[key].index.tolist()))\n",
    "diff_to_tespy = (\n",
    "    (\n",
    "        dfs_ebs[key].loc[overlapping_index, columns]\n",
    "        - dfs_tespy[key].loc[overlapping_index, columns]\n",
    "    ) / dfs_tespy[key].loc[overlapping_index, columns]\n",
    ").abs().replace(np.inf, np.nan)\n",
    "diff_to_ebs = (\n",
    "    (\n",
    "        dfs_ebs[key].loc[overlapping_index, columns]\n",
    "        - dfs_tespy[key].loc[overlapping_index, columns]\n",
    "    ).abs() / dfs_tespy[key].loc[overlapping_index, columns]\n",
    ").abs().replace(np.inf, np.nan)"
   ]
  },
  {
   "cell_type": "code",
   "execution_count": null,
   "metadata": {},
   "outputs": [],
   "source": [
    "diff_to_ebs"
   ]
  },
  {
   "cell_type": "code",
   "execution_count": null,
   "metadata": {},
   "outputs": [],
   "source": [
    "diff_to_ebs[diff_to_ebs > 1e-3].dropna(how=\"all\")"
   ]
  }
 ],
 "metadata": {
  "kernelspec": {
   "display_name": "tespy-env",
   "language": "python",
   "name": "python3"
  },
  "language_info": {
   "codemirror_mode": {
    "name": "ipython",
    "version": 3
   },
   "file_extension": ".py",
   "mimetype": "text/x-python",
   "name": "python",
   "nbconvert_exporter": "python",
   "pygments_lexer": "ipython3",
   "version": "3.11.11"
  }
 },
 "nbformat": 4,
 "nbformat_minor": 2
}
