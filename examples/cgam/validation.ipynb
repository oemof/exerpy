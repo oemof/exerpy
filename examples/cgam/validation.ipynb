{
 "cells": [
  {
   "cell_type": "code",
   "execution_count": 38,
   "metadata": {},
   "outputs": [],
   "source": [
    "import pandas as pd\n",
    "import json"
   ]
  },
  {
   "cell_type": "code",
   "execution_count": 39,
   "metadata": {},
   "outputs": [],
   "source": [
    "with open(\"cgam_parsed.json\", \"r\") as f:\n",
    "    result = json.load(f)\n",
    "\n",
    "\n",
    "dfs_ebs = {}\n",
    "for key in [\"components\", \"connections\"]:\n",
    "    dfs_ebs[key] = pd.DataFrame.from_dict(result[key], orient=\"index\").sort_index()"
   ]
  },
  {
   "cell_type": "code",
   "execution_count": 40,
   "metadata": {},
   "outputs": [],
   "source": [
    "with open(\"cgam_tespy.json\", \"r\") as f:\n",
    "    result = json.load(f)\n",
    "\n",
    "\n",
    "dfs_tespy = {}\n",
    "for key in [\"components\", \"connections\"]:\n",
    "    dfs_tespy[key] = pd.DataFrame.from_dict(result[key], orient=\"index\").sort_index()"
   ]
  },
  {
   "cell_type": "code",
   "execution_count": 41,
   "metadata": {},
   "outputs": [],
   "source": [
    "key = \"connections\"\n",
    "\n",
    "dfs_tespy[key][\"fluid_group\"] = None\n",
    "dfs_ebs[key][\"fluid_group\"] = None\n",
    "\n",
    "groups_compositions = {}\n",
    "\n",
    "for idx, row in dfs_tespy[key].iterrows():\n",
    "    rounded_fluids = {\n",
    "        k: round(v, 4) for k, v in row[\"mass_composition\"].items()\n",
    "    }\n",
    "    dfs_tespy[key].loc[idx, \"fluid_group\"] = f\"{rounded_fluids}\"\n",
    "\n",
    "dfs_tespy[key][\"dh\"] = 0.0\n",
    "dfs_tespy[key][\"ds\"] = 0.0\n",
    "for group in dfs_tespy[key][\"fluid_group\"].unique():\n",
    "    mask = dfs_tespy[key][\"fluid_group\"] == group\n",
    "    # reference_df = dfs_tespy[key].loc[mask, [\"h\", \"s\"]].copy()\n",
    "    # locator = reference_df.index.astype(int).min()\n",
    "    dfs_tespy[key].loc[mask, [\"dh\", \"ds\"]] = (dfs_tespy[key].loc[mask, [\"h\", \"s\"]].iloc[0] - dfs_tespy[key].loc[mask, [\"h\", \"s\"]]).values\n",
    "\n",
    "\n",
    "groups_compositions = {}\n",
    "\n",
    "for idx, row in dfs_ebs[key].iterrows():\n",
    "    if type(row[\"mass_composition\"]) == dict:\n",
    "        rounded_fluids = {\n",
    "            k: round(v, 4) for k, v in row[\"mass_composition\"].items()\n",
    "        }\n",
    "        dfs_ebs[key].loc[idx, \"fluid_group\"] = f\"{rounded_fluids}\"\n",
    "    else:\n",
    "        continue\n",
    "\n",
    "dfs_ebs[key][\"dh\"] = 0.0\n",
    "dfs_ebs[key][\"ds\"] = 0.0\n",
    "for group in dfs_ebs[key][\"fluid_group\"].unique():\n",
    "    if group is not None:\n",
    "        mask = dfs_ebs[key][\"fluid_group\"] == group\n",
    "        reference_df = dfs_ebs[key].loc[mask, [\"h\", \"s\"]].copy()\n",
    "        dfs_ebs[key].loc[mask, [\"dh\", \"ds\"]] = (dfs_ebs[key].loc[mask, [\"h\", \"s\"]].iloc[0] - dfs_ebs[key].loc[mask, [\"h\", \"s\"]]).values"
   ]
  },
  {
   "cell_type": "code",
   "execution_count": 42,
   "metadata": {},
   "outputs": [],
   "source": [
    "columns = [\"m\", \"p\", \"T\"]\n",
    "\n",
    "overlapping_index = list(set(dfs_tespy[key].index.tolist()) & set(dfs_ebs[key].index.tolist()))\n",
    "diff_to_tespy = (\n",
    "    dfs_ebs[key].loc[overlapping_index, columns]\n",
    "    - dfs_tespy[key].loc[overlapping_index, columns]\n",
    ").abs() / dfs_tespy[key].loc[overlapping_index, columns]\n",
    "diff_to_ebs = (\n",
    "    dfs_ebs[key].loc[overlapping_index, columns]\n",
    "    - dfs_tespy[key].loc[overlapping_index, columns]\n",
    ").abs() / dfs_tespy[key].loc[overlapping_index, columns]\n",
    "\n",
    "columns = [\"dh\", \"ds\"]\n",
    "diff_to_ebs[columns] = (\n",
    "    dfs_ebs[key].loc[overlapping_index, columns]\n",
    "    - dfs_tespy[key].loc[overlapping_index, columns]\n",
    ")"
   ]
  },
  {
   "cell_type": "code",
   "execution_count": 43,
   "metadata": {},
   "outputs": [
    {
     "ename": "AssertionError",
     "evalue": "",
     "output_type": "error",
     "traceback": [
      "\u001b[1;31m---------------------------------------------------------------------------\u001b[0m",
      "\u001b[1;31mAssertionError\u001b[0m                            Traceback (most recent call last)",
      "Cell \u001b[1;32mIn[43], line 1\u001b[0m\n\u001b[1;32m----> 1\u001b[0m \u001b[38;5;28;01massert\u001b[39;00m (diff_to_ebs[[\u001b[38;5;124m\"\u001b[39m\u001b[38;5;124mm\u001b[39m\u001b[38;5;124m\"\u001b[39m, \u001b[38;5;124m\"\u001b[39m\u001b[38;5;124mp\u001b[39m\u001b[38;5;124m\"\u001b[39m, \u001b[38;5;124m\"\u001b[39m\u001b[38;5;124mT\u001b[39m\u001b[38;5;124m\"\u001b[39m]] \u001b[38;5;241m<\u001b[39m \u001b[38;5;241m1e-3\u001b[39m)\u001b[38;5;241m.\u001b[39mall()\u001b[38;5;241m.\u001b[39mall()\n",
      "\u001b[1;31mAssertionError\u001b[0m: "
     ]
    }
   ],
   "source": [
    "assert (diff_to_ebs[[\"m\", \"p\", \"T\"]] < 1e-3).all().all()"
   ]
  },
  {
   "cell_type": "code",
   "execution_count": null,
   "metadata": {},
   "outputs": [],
   "source": []
  }
 ],
 "metadata": {
  "kernelspec": {
   "display_name": "tespy-env",
   "language": "python",
   "name": "python3"
  },
  "language_info": {
   "codemirror_mode": {
    "name": "ipython",
    "version": 3
   },
   "file_extension": ".py",
   "mimetype": "text/x-python",
   "name": "python",
   "nbconvert_exporter": "python",
   "pygments_lexer": "ipython3",
   "version": "3.11.11"
  }
 },
 "nbformat": 4,
 "nbformat_minor": 2
}
