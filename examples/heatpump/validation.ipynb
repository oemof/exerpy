{
 "cells": [
  {
   "cell_type": "code",
   "execution_count": 46,
   "metadata": {},
   "outputs": [],
   "source": [
    "import pandas as pd\n",
    "import json"
   ]
  },
  {
   "cell_type": "code",
   "execution_count": 47,
   "metadata": {},
   "outputs": [],
   "source": [
    "with open(\"hp_parsed.json\", \"r\") as f:\n",
    "    result = json.load(f)\n",
    "\n",
    "\n",
    "dfs_ebs = {}\n",
    "for key in [\"components\", \"connections\"]:\n",
    "    dfs_ebs[key] = pd.DataFrame.from_dict(result[key], orient=\"index\")"
   ]
  },
  {
   "cell_type": "code",
   "execution_count": 48,
   "metadata": {},
   "outputs": [],
   "source": [
    "with open(\"hp_tespy.json\", \"r\") as f:\n",
    "    result = json.load(f)\n",
    "\n",
    "\n",
    "dfs_tespy = {}\n",
    "for key in [\"components\", \"connections\"]:\n",
    "    dfs_tespy[key] = pd.DataFrame.from_dict(result[key], orient=\"index\")"
   ]
  },
  {
   "cell_type": "code",
   "execution_count": 49,
   "metadata": {},
   "outputs": [],
   "source": [
    "columns = [\"m\", \"p\", \"T\"]\n",
    "\n",
    "overlapping_index = list(set(dfs_tespy[key].index.tolist()) & set(dfs_ebs[key].index.tolist()))\n",
    "diff_to_tespy = (\n",
    "    dfs_ebs[key].loc[overlapping_index, columns]\n",
    "    - dfs_tespy[key].loc[overlapping_index, columns]\n",
    ").abs() / dfs_tespy[key].loc[overlapping_index, columns]\n",
    "diff_to_ebs = (\n",
    "    dfs_ebs[key].loc[overlapping_index, columns]\n",
    "    - dfs_tespy[key].loc[overlapping_index, columns]\n",
    ").abs() / dfs_ebs[key].loc[overlapping_index, columns]"
   ]
  },
  {
   "cell_type": "code",
   "execution_count": 50,
   "metadata": {},
   "outputs": [],
   "source": [
    "assert (diff_to_ebs < 1e-3).all().all()\n",
    "assert (diff_to_tespy < 1e-3).all().all()"
   ]
  },
  {
   "cell_type": "code",
   "execution_count": null,
   "metadata": {},
   "outputs": [],
   "source": []
  }
 ],
 "metadata": {
  "kernelspec": {
   "display_name": "exerpy-env",
   "language": "python",
   "name": "python3"
  },
  "language_info": {
   "codemirror_mode": {
    "name": "ipython",
    "version": 3
   },
   "file_extension": ".py",
   "mimetype": "text/x-python",
   "name": "python",
   "nbconvert_exporter": "python",
   "pygments_lexer": "ipython3",
   "version": "3.11.9"
  }
 },
 "nbformat": 4,
 "nbformat_minor": 2
}
