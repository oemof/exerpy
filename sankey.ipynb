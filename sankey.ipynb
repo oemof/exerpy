{
 "cells": [
  {
   "cell_type": "code",
   "execution_count": 19,
   "metadata": {},
   "outputs": [
    {
     "name": "stderr",
     "output_type": "stream",
     "text": [
      "DEBUG:TESPyLogger:Default unit specifications:\n",
      "mass flow: kg / s\n",
      "volumetric flow: m3 / s\n",
      "pressure: Pa\n",
      "enthalpy: J / kg\n",
      "temperature: K\n",
      "temperature difference to boiling point: K\n",
      "specific volume: m3 / kg\n",
      "vapor mass fraction: -\n",
      "entropy: J / kgK\n",
      "DEBUG:TESPyLogger:Default mass flow limits\n",
      "min: -1000000000000.0 kg / s\n",
      "max: 1000000000000.0 kg / s\n",
      "DEBUG:TESPyLogger:Default pressure limits\n",
      "min: 200.0 Pa\n",
      "max: 30000000.0 Pa\n",
      "DEBUG:TESPyLogger:Default enthalpy limits\n",
      "min: 1000.0 J / kg\n",
      "max: 7000000.0 J / kg\n",
      "DEBUG:TESPyLogger:Setting mass flow unit: kg / s.\n",
      "DEBUG:TESPyLogger:Setting pressure unit: bar.\n",
      "DEBUG:TESPyLogger:Setting enthalpy unit: kJ / kg.\n",
      "DEBUG:TESPyLogger:Setting temperature unit: C.\n",
      "DEBUG:TESPyLogger:Created connection from air inlet (out1) to AIR_HX (in1).\n",
      "DEBUG:TESPyLogger:Created connection from AIR_HX (out1) to air outlet (in1).\n",
      "DEBUG:TESPyLogger:Created connection from AIR_HX (out2) to COMP1 (in1).\n",
      "DEBUG:TESPyLogger:Created connection from COMP1 (out1) to IHX (in1).\n",
      "DEBUG:TESPyLogger:Created connection from IHX (out1) to cc (in1).\n",
      "DEBUG:TESPyLogger:Created connection from cc (out1) to VAL1 (in1).\n",
      "DEBUG:TESPyLogger:Created connection from VAL1 (out1) to AIR_HX (in2).\n",
      "DEBUG:TESPyLogger:Created connection from IHX (out2) to COMP2 (in1).\n",
      "DEBUG:TESPyLogger:Created connection from COMP2 (out1) to STEAM_GEN (in1).\n",
      "DEBUG:TESPyLogger:Created connection from STEAM_GEN (out1) to cc2 (in1).\n",
      "DEBUG:TESPyLogger:Created connection from cc2 (out1) to VAL2 (in1).\n",
      "DEBUG:TESPyLogger:Created connection from VAL2 (out1) to IHX (in2).\n",
      "DEBUG:TESPyLogger:Created connection from water inlet (out1) to STEAM_GEN (in2).\n",
      "DEBUG:TESPyLogger:Created connection from STEAM_GEN (out2) to water outlet (in1).\n",
      "DEBUG:TESPyLogger:Added connection 21 to network.\n",
      "DEBUG:TESPyLogger:Added connection 22 to network.\n",
      "DEBUG:TESPyLogger:Added connection 22c to network.\n",
      "DEBUG:TESPyLogger:Added connection 23 to network.\n",
      "DEBUG:TESPyLogger:Added connection 24 to network.\n",
      "DEBUG:TESPyLogger:Added connection 11 to network.\n",
      "DEBUG:TESPyLogger:Added connection 12 to network.\n",
      "DEBUG:TESPyLogger:Added connection 31 to network.\n",
      "DEBUG:TESPyLogger:Added connection 32 to network.\n",
      "DEBUG:TESPyLogger:Added connection 32c to network.\n",
      "DEBUG:TESPyLogger:Added connection 33 to network.\n",
      "DEBUG:TESPyLogger:Added connection 34 to network.\n",
      "DEBUG:TESPyLogger:Added connection 41 to network.\n",
      "DEBUG:TESPyLogger:Added connection 42 to network.\n",
      "DEBUG:TESPyLogger:Created reference object with factor 1 and delta -5 referring to connection 11\n",
      "INFO:TESPyLogger:Networkcheck successful.\n",
      "DEBUG:TESPyLogger:Solver properties:\n",
      " - mode: design\n",
      " - init_path: None\n",
      " - design_path: None\n",
      " - min_iter: 4\n",
      " - max_iter: 50\n",
      "DEBUG:TESPyLogger:Network information:\n",
      " - Number of components: 13\n",
      " - Number of connections: 14\n",
      " - Number of busses: 0\n",
      "DEBUG:TESPyLogger:Updated fluid property SI values and fluid mass fraction for user specified connection parameters.\n",
      "DEBUG:TESPyLogger:Created characteristic line function.\n",
      "DEBUG:TESPyLogger:Created characteristic line function.\n",
      "DEBUG:TESPyLogger:Created characteristic line function.\n",
      "DEBUG:TESPyLogger:Created characteristic map function.\n",
      "DEBUG:TESPyLogger:Created characteristic map function.\n",
      "DEBUG:TESPyLogger:Created characteristic line function.\n",
      "DEBUG:TESPyLogger:Created characteristic map function.\n",
      "DEBUG:TESPyLogger:Created characteristic map function.\n",
      "DEBUG:TESPyLogger:Created characteristic line function.\n",
      "DEBUG:TESPyLogger:Created characteristic line function.\n",
      "DEBUG:TESPyLogger:Created characteristic line function.\n",
      "DEBUG:TESPyLogger:Created characteristic line function.\n",
      "DEBUG:TESPyLogger:Created characteristic line function.\n",
      "DEBUG:TESPyLogger:Created characteristic line function.\n",
      "INFO:TESPyLogger:Determined h by known p and T at 11.\n",
      "INFO:TESPyLogger:Determined h by known p and Td_bp at 23.\n",
      "INFO:TESPyLogger:Determined h by known p and x at 41.\n",
      "INFO:TESPyLogger:Determined h by known p and x at 42.\n",
      "DEBUG:TESPyLogger:Generic fluid property specification complete.\n",
      "INFO:TESPyLogger:Network initialised.\n",
      "INFO:TESPyLogger:Starting solver.\n",
      "DEBUG:TESPyLogger:Number of connection equations: 5.\n",
      "DEBUG:TESPyLogger:Number of bus equations: 0.\n",
      "DEBUG:TESPyLogger:Number of component equations: 7.\n",
      "DEBUG:TESPyLogger:Number of user defined equations: 0.\n",
      "DEBUG:TESPyLogger:Total number of variables: 12.\n",
      "PROGRESS:TESPyLogger: iter  | residual   | progress   | massflow   | pressure   | enthalpy   | fluid      | component  \n",
      "PROGRESS:TESPyLogger:-------+------------+------------+------------+------------+------------+------------+------------\n",
      "DEBUG:TESPyLogger:Pressure out of fluid property range at connection 21, adjusting value to 200000000.0 Pa.\n",
      "DEBUG:TESPyLogger:Enthalpy out of fluid property range at connection 21, adjusting value to 799537.393556929 J / kg.\n",
      "DEBUG:TESPyLogger:Enthalpy out of fluid property range at connection 22, adjusting value to 811942.5155509919 J / kg.\n",
      "DEBUG:TESPyLogger:Pressure out of fluid property range at connection 31, adjusting value to 100000000.0 Pa.\n",
      "DEBUG:TESPyLogger:Enthalpy out of fluid property range at connection 31, adjusting value to 949656.7109163045 J / kg.\n",
      "DEBUG:TESPyLogger:Enthalpy out of fluid property range at connection 32, adjusting value to 144606.96215578407 J / kg.\n",
      "DEBUG:TESPyLogger:Enthalpy out of fluid property range at connection 32, adjusting value to 977871.3025068082 J / kg.\n",
      "PROGRESS:TESPyLogger: 1     | 1.78e+06   | 0 %        | 5.49e+01   | 7.24e+08   | 7.45e+06   | 0.00e+00   | 0.00e+00   \n",
      "DEBUG:TESPyLogger:Enthalpy out of fluid property range at connection 21, adjusting value to 436115.46211637935 J / kg.\n",
      "DEBUG:TESPyLogger:Enthalpy out of fluid property range at connection 31, adjusting value to 516878.17188475037 J / kg.\n",
      "PROGRESS:TESPyLogger: 2     | 5.94e+06   | 0 %        | 9.26e+01   | 1.40e+07   | 1.07e+06   | 0.00e+00   | 0.00e+00   \n",
      "DEBUG:TESPyLogger:Enthalpy out of fluid property range at connection 21, adjusting value to 421896.3699849496 J / kg.\n",
      "DEBUG:TESPyLogger:Enthalpy out of fluid property range at connection 31, adjusting value to 144396.38925111826 J / kg.\n",
      "DEBUG:TESPyLogger:Enthalpy out of fluid property range at connection 31, adjusting value to 499733.2111425963 J / kg.\n",
      "PROGRESS:TESPyLogger: 3     | 2.46e+06   | 0 %        | 2.44e+03   | 9.84e+07   | 1.44e+06   | 0.00e+00   | 0.00e+00   \n",
      "PROGRESS:TESPyLogger: 4     | 1.82e+07   | 0 %        | 2.97e+03   | 6.14e+05   | 8.61e+04   | 0.00e+00   | 0.00e+00   \n",
      "PROGRESS:TESPyLogger: 5     | 6.88e+05   | 1 %        | 1.59e+02   | 3.97e+04   | 6.32e+02   | 0.00e+00   | 0.00e+00   \n",
      "PROGRESS:TESPyLogger: 6     | 2.35e+03   | 29 %       | 5.91e-01   | 3.43e+03   | 9.74e+01   | 0.00e+00   | 0.00e+00   \n"
     ]
    },
    {
     "name": "stdout",
     "output_type": "stream",
     "text": [
      "\n",
      " iter  | residual   | progress   | massflow   | pressure   | enthalpy   | fluid      | component  \n",
      "-------+------------+------------+------------+------------+------------+------------+------------\n",
      " 1     | 1.78e+06   | 0 %        | 5.49e+01   | 7.24e+08   | 7.45e+06   | 0.00e+00   | 0.00e+00   \n",
      " 2     | 5.94e+06   | 0 %        | 9.26e+01   | 1.40e+07   | 1.07e+06   | 0.00e+00   | 0.00e+00   \n",
      " 3     | 2.46e+06   | 0 %        | 2.44e+03   | 9.84e+07   | 1.44e+06   | 0.00e+00   | 0.00e+00   \n",
      " 4     | 1.82e+07   | 0 %        | 2.97e+03   | 6.14e+05   | 8.61e+04   | 0.00e+00   | 0.00e+00   \n",
      " 5     | 6.88e+05   | 1 %        | 1.59e+02   | 3.97e+04   | 6.32e+02   | 0.00e+00   | 0.00e+00   \n",
      " 6     | 2.35e+03   | 29 %       | 5.91e-01   | 3.43e+03   | 9.74e+01   | 0.00e+00   | 0.00e+00   \n"
     ]
    },
    {
     "name": "stderr",
     "output_type": "stream",
     "text": [
      "PROGRESS:TESPyLogger: 7     | 1.78e+00   | 63 %       | 3.08e-02   | 1.69e+02   | 1.20e+01   | 0.00e+00   | 0.00e+00   \n",
      "PROGRESS:TESPyLogger: 8     | 2.50e-03   | 95 %       | 1.48e-03   | 8.93e+00   | 5.80e-01   | 0.00e+00   | 0.00e+00   \n",
      "PROGRESS:TESPyLogger: 9     | 4.39e-05   | 100 %      | 7.83e-05   | 4.70e-01   | 3.06e-02   | 0.00e+00   | 0.00e+00   \n",
      "PROGRESS:TESPyLogger: 10    | 2.28e-06   | 100 %      | 4.12e-06   | 2.47e-02   | 1.61e-03   | 0.00e+00   | 0.00e+00   \n",
      "PROGRESS:TESPyLogger:-------+------------+------------+------------+------------+------------+------------+------------\n",
      "DEBUG:TESPyLogger:Total iterations: 10, Calculation time: 0.26 s, Iterations per second: 38.57\n",
      "WARNING:TESPyLogger:The MovingBoundaryHeatExchanger instance AIR_HX is defined for constant pressure. The identification of the heat transfer sections might be wrong in case phase changes are involved in the heat transfer process.\n",
      "WARNING:TESPyLogger:The MovingBoundaryHeatExchanger instance IHX is defined for constant pressure. The identification of the heat transfer sections might be wrong in case phase changes are involved in the heat transfer process.\n",
      "WARNING:TESPyLogger:The MovingBoundaryHeatExchanger instance IHX is defined for constant pressure. The identification of the heat transfer sections might be wrong in case phase changes are involved in the heat transfer process.\n",
      "WARNING:TESPyLogger:The MovingBoundaryHeatExchanger instance STEAM_GEN is defined for constant pressure. The identification of the heat transfer sections might be wrong in case phase changes are involved in the heat transfer process.\n",
      "INFO:TESPyLogger:Postprocessing complete.\n",
      "INFO:TESPyLogger:Calculation complete.\n",
      "DEBUG:TESPyLogger:Created characteristic line function.\n",
      "DEBUG:TESPyLogger:Created bus power input.\n",
      "DEBUG:TESPyLogger:Created characteristic line function.\n",
      "DEBUG:TESPyLogger:Added component COMP1 to bus power input.\n",
      "DEBUG:TESPyLogger:Created characteristic line function.\n",
      "DEBUG:TESPyLogger:Added component COMP2 to bus power input.\n",
      "DEBUG:TESPyLogger:Added bus power input to network.\n",
      "DEBUG:TESPyLogger:Solver properties:\n",
      " - mode: design\n",
      " - init_path: None\n",
      " - design_path: None\n",
      " - min_iter: 4\n",
      " - max_iter: 50\n",
      "DEBUG:TESPyLogger:Network information:\n",
      " - Number of components: 13\n",
      " - Number of connections: 14\n",
      " - Number of busses: 1\n",
      "DEBUG:TESPyLogger:Updated fluid property SI values and fluid mass fraction for user specified connection parameters.\n",
      "INFO:TESPyLogger:Determined h by known p and T at 11.\n",
      "INFO:TESPyLogger:Determined h by known p and x at 41.\n",
      "INFO:TESPyLogger:Determined h by known p and x at 42.\n",
      "DEBUG:TESPyLogger:Generic fluid property specification complete.\n",
      "INFO:TESPyLogger:Network initialised.\n",
      "INFO:TESPyLogger:Starting solver.\n",
      "DEBUG:TESPyLogger:Number of connection equations: 6.\n",
      "DEBUG:TESPyLogger:Number of bus equations: 0.\n",
      "DEBUG:TESPyLogger:Number of component equations: 8.\n",
      "DEBUG:TESPyLogger:Number of user defined equations: 0.\n",
      "DEBUG:TESPyLogger:Total number of variables: 14.\n",
      "PROGRESS:TESPyLogger: iter  | residual   | progress   | massflow   | pressure   | enthalpy   | fluid      | component  \n",
      "PROGRESS:TESPyLogger:-------+------------+------------+------------+------------+------------+------------+------------\n",
      "PROGRESS:TESPyLogger: 1     | 8.20e-02   | 78 %       | 1.16e-01   | 1.40e+03   | 1.27e+02   | 0.00e+00   | 0.00e+00   \n"
     ]
    },
    {
     "name": "stdout",
     "output_type": "stream",
     "text": [
      " 7     | 1.78e+00   | 63 %       | 3.08e-02   | 1.69e+02   | 1.20e+01   | 0.00e+00   | 0.00e+00   \n",
      " 8     | 2.50e-03   | 95 %       | 1.48e-03   | 8.93e+00   | 5.80e-01   | 0.00e+00   | 0.00e+00   \n",
      " 9     | 4.39e-05   | 100 %      | 7.83e-05   | 4.70e-01   | 3.06e-02   | 0.00e+00   | 0.00e+00   \n",
      " 10    | 2.28e-06   | 100 %      | 4.12e-06   | 2.47e-02   | 1.61e-03   | 0.00e+00   | 0.00e+00   \n",
      "Total iterations: 10, Calculation time: 0.26 s, Iterations per second: 38.57\n",
      "\n",
      " iter  | residual   | progress   | massflow   | pressure   | enthalpy   | fluid      | component  \n",
      "-------+------------+------------+------------+------------+------------+------------+------------\n"
     ]
    },
    {
     "name": "stderr",
     "output_type": "stream",
     "text": [
      "PROGRESS:TESPyLogger: 2     | 4.69e-01   | 70 %       | 2.98e-05   | 1.16e+00   | 2.00e-02   | 0.00e+00   | 0.00e+00   \n",
      "PROGRESS:TESPyLogger: 3     | 9.77e-08   | 100 %      | 2.82e-11   | 8.20e-07   | 1.82e-08   | 0.00e+00   | 0.00e+00   \n",
      "PROGRESS:TESPyLogger: 4     | 2.55e-08   | 100 %      | 1.18e-12   | 9.17e-09   | 7.88e-10   | 0.00e+00   | 0.00e+00   \n",
      "PROGRESS:TESPyLogger:-------+------------+------------+------------+------------+------------+------------+------------\n",
      "DEBUG:TESPyLogger:Total iterations: 4, Calculation time: 0.11 s, Iterations per second: 36.51\n",
      "WARNING:TESPyLogger:The MovingBoundaryHeatExchanger instance AIR_HX is defined for constant pressure. The identification of the heat transfer sections might be wrong in case phase changes are involved in the heat transfer process.\n",
      "WARNING:TESPyLogger:The MovingBoundaryHeatExchanger instance IHX is defined for constant pressure. The identification of the heat transfer sections might be wrong in case phase changes are involved in the heat transfer process.\n",
      "WARNING:TESPyLogger:The MovingBoundaryHeatExchanger instance IHX is defined for constant pressure. The identification of the heat transfer sections might be wrong in case phase changes are involved in the heat transfer process.\n",
      "WARNING:TESPyLogger:The MovingBoundaryHeatExchanger instance STEAM_GEN is defined for constant pressure. The identification of the heat transfer sections might be wrong in case phase changes are involved in the heat transfer process.\n",
      "INFO:TESPyLogger:Postprocessing complete.\n",
      "INFO:TESPyLogger:Calculation complete.\n",
      "RESULT:TESPyLogger:\n",
      "##### RESULTS (MovingBoundaryHeatExchanger) #####\n",
      "+-----------+-----------+----------+----------+----------+----------+-----------+----------+----------+----------+----------+----------+----------+------------+-----------+-----------+-------------+------------------+----------------+----------------+---------------------+-------------------+------------------+-----------------------+---------------------+-----+----------+------------+\n",
      "|           |         Q |       kA |   td_log |    ttd_u |    ttd_l |   ttd_min |      pr1 |      pr2 |      dp1 |      dp2 |    zeta1 |    zeta2 |   eff_cold |   eff_hot |   eff_max |   U_gas_gas |   U_gas_twophase |   U_gas_liquid |   U_liquid_gas |   U_liquid_twophase |   U_liquid_liquid |   U_twophase_gas |   U_twophase_twophase |   U_twophase_liquid |   A |       UA |   td_pinch |\n",
      "|-----------+-----------+----------+----------+----------+----------+-----------+----------+----------+----------+----------+----------+----------+------------+-----------+-----------+-------------+------------------+----------------+----------------+---------------------+-------------------+------------------+-----------------------+---------------------+-----+----------+------------|\n",
      "| AIR_HX    | -1.12e+06 | 2.01e+05 | 5.59e+00 | 6.22e+00 | \u001b[94m5.00e+00\u001b[0m |  5.00e+00 | \u001b[94m1.00e+00\u001b[0m | \u001b[94m9.50e-01\u001b[0m | 0.00e+00 | 4.12e-02 | 0.00e+00 | 4.49e+02 |   9.60e-01 |  5.00e-01 |  9.60e-01 |         nan |              nan |            nan |            nan |                 nan |               nan |              nan |                   nan |                 nan | nan | 1.56e+05 |   5.00e+00 |\n",
      "| IHX       | -1.53e+06 | 1.80e+05 | 8.51e+00 | 1.34e+01 | \u001b[94m5.00e+00\u001b[0m |  5.00e+00 | \u001b[94m9.50e-01\u001b[0m | \u001b[94m9.50e-01\u001b[0m | 3.21e-01 | 1.95e-01 | 3.48e+04 | 1.87e+03 |   8.72e-01 |  9.61e-01 |  9.61e-01 |         nan |              nan |            nan |            nan |                 nan |               nan |              nan |                   nan |                 nan | nan | 1.42e+05 |   5.00e+00 |\n",
      "| STEAM_GEN | -2.20e+06 | 3.12e+05 | 7.05e+00 | 9.59e+00 | \u001b[94m5.00e+00\u001b[0m |  5.00e+00 | \u001b[94m9.50e-01\u001b[0m | \u001b[94m1.00e+00\u001b[0m | 9.17e-01 | 0.00e+00 | 6.50e+04 | 0.00e+00 |   9.91e-01 |  9.40e-01 |  9.91e-01 |         nan |              nan |            nan |            nan |                 nan |               nan |              nan |                   nan |                 nan | nan | 3.47e+05 |   5.07e+00 |\n",
      "+-----------+-----------+----------+----------+----------+----------+-----------+----------+----------+----------+----------+----------+----------+------------+-----------+-----------+-------------+------------------+----------------+----------------+---------------------+-------------------+------------------+-----------------------+---------------------+-----+----------+------------+\n",
      "##### RESULTS (Compressor) #####\n",
      "+-------+----------+----------+-----------+----------+--------+\n",
      "|       |        P |       pr |        dp |    eta_s |   igva |\n",
      "|-------+----------+----------+-----------+----------+--------|\n",
      "| COMP1 | 4.09e+05 | 8.19e+00 | -5.63e+00 | \u001b[94m8.00e-01\u001b[0m |    nan |\n",
      "| COMP2 | 6.71e+05 | 4.94e+00 | -1.46e+01 | \u001b[94m8.00e-01\u001b[0m |    nan |\n",
      "+-------+----------+----------+-----------+----------+--------+\n",
      "##### RESULTS (Valve) #####\n",
      "+------+----------+----------+----------+\n",
      "|      |       pr |       dp |     zeta |\n",
      "|------+----------+----------+----------|\n",
      "| VAL1 | 1.35e-01 | 5.27e+00 | 2.19e+05 |\n",
      "| VAL2 | 2.24e-01 | 1.35e+01 | 3.73e+05 |\n",
      "+------+----------+----------+----------+\n",
      "##### RESULTS (CycleCloser) #####\n",
      "+-----+------------------+-------------------+\n",
      "|     |   mass_deviation |   fluid_deviation |\n",
      "|-----+------------------+-------------------|\n",
      "| cc  |         0.00e+00 |          0.00e+00 |\n",
      "| cc2 |         0.00e+00 |          0.00e+00 |\n",
      "+-----+------------------+-------------------+\n",
      "##### RESULTS (Connection) #####\n",
      "+-----+-----------+-----------+-----------+-----------+------------+---------+\n",
      "|     |         m |         p |         h |         T |          x | phase   |\n",
      "|-----+-----------+-----------+-----------+-----------+------------+---------|\n",
      "| 11  | 2.231e+02 | \u001b[94m1.013e+00\u001b[0m | 2.936e+02 | \u001b[94m2.000e+01\u001b[0m |  0.000e+00 | nan     |\n",
      "| 12  | 2.231e+02 | 1.013e+00 | 2.886e+02 | 1.500e+01 |  0.000e+00 | nan     |\n",
      "| 21  | 8.732e+00 | 7.830e-01 | 4.163e+02 | 1.378e+01 |  1.000e+00 | g       |\n",
      "| 22  | 8.732e+00 | 6.414e+00 | 4.632e+02 | 7.652e+01 |  1.000e+00 | g       |\n",
      "| 22c | 8.732e+00 | 6.093e+00 | 2.879e+02 | 6.500e+01 |  0.000e+00 | l       |\n",
      "| 23  | 8.732e+00 | 6.093e+00 | 2.879e+02 | 6.500e+01 |  0.000e+00 | l       |\n",
      "| 24  | 8.732e+00 | 8.242e-01 | 2.879e+02 | 1.000e+01 |  3.729e-01 | tp      |\n",
      "| 31  | 1.821e+01 | 3.713e+00 | 4.799e+02 | 6.316e+01 |  1.000e+00 | g       |\n",
      "| 32  | 1.821e+01 | 1.834e+01 | 5.167e+02 | 1.298e+02 |  1.000e+00 | g       |\n",
      "| 32c | 1.821e+01 | 1.742e+01 | 3.958e+02 | 1.252e+02 | -9.505e-16 | tp      |\n",
      "| 33  | 1.821e+01 | 1.742e+01 | 3.958e+02 | 1.252e+02 |  \u001b[94m0.000e+00\u001b[0m | tp      |\n",
      "| 34  | 1.821e+01 | 3.909e+00 | 3.958e+02 | \u001b[94m6.000e+01\u001b[0m |  5.289e-01 | tp      |\n",
      "| 41  | \u001b[94m1.000e+00\u001b[0m | \u001b[94m2.000e+00\u001b[0m | 5.047e+02 | 1.202e+02 |  \u001b[94m0.000e+00\u001b[0m | tp      |\n",
      "| 42  | 1.000e+00 | 2.000e+00 | 2.706e+03 | 1.202e+02 |  \u001b[94m1.000e+00\u001b[0m | tp      |\n",
      "+-----+-----------+-----------+-----------+-----------+------------+---------+\n",
      "##### RESULTS (Bus: power input) #####\n",
      "+-------+-------------------+-------------+--------------+\n",
      "|       |   component value |   bus value |   efficiency |\n",
      "|-------+-------------------+-------------+--------------|\n",
      "| COMP1 |         4.088e+05 |   4.150e+05 |    9.850e-01 |\n",
      "| COMP2 |         6.709e+05 |   6.812e+05 |    9.850e-01 |\n",
      "| total |         1.080e+06 |   1.096e+06 |  nan         |\n",
      "+-------+-------------------+-------------+--------------+\n"
     ]
    },
    {
     "name": "stdout",
     "output_type": "stream",
     "text": [
      " 1     | 8.20e-02   | 78 %       | 1.16e-01   | 1.40e+03   | 1.27e+02   | 0.00e+00   | 0.00e+00   \n",
      " 2     | 4.69e-01   | 70 %       | 2.98e-05   | 1.16e+00   | 2.00e-02   | 0.00e+00   | 0.00e+00   \n",
      " 3     | 9.77e-08   | 100 %      | 2.82e-11   | 8.20e-07   | 1.82e-08   | 0.00e+00   | 0.00e+00   \n",
      " 4     | 2.55e-08   | 100 %      | 1.18e-12   | 9.17e-09   | 7.88e-10   | 0.00e+00   | 0.00e+00   \n",
      "Total iterations: 4, Calculation time: 0.11 s, Iterations per second: 36.51\n",
      "\n",
      "##### RESULTS (MovingBoundaryHeatExchanger) #####\n",
      "+-----------+-----------+----------+----------+----------+----------+-----------+----------+----------+----------+----------+----------+----------+------------+-----------+-----------+-------------+------------------+----------------+----------------+---------------------+-------------------+------------------+-----------------------+---------------------+-----+----------+------------+\n",
      "|           |         Q |       kA |   td_log |    ttd_u |    ttd_l |   ttd_min |      pr1 |      pr2 |      dp1 |      dp2 |    zeta1 |    zeta2 |   eff_cold |   eff_hot |   eff_max |   U_gas_gas |   U_gas_twophase |   U_gas_liquid |   U_liquid_gas |   U_liquid_twophase |   U_liquid_liquid |   U_twophase_gas |   U_twophase_twophase |   U_twophase_liquid |   A |       UA |   td_pinch |\n",
      "|-----------+-----------+----------+----------+----------+----------+-----------+----------+----------+----------+----------+----------+----------+------------+-----------+-----------+-------------+------------------+----------------+----------------+---------------------+-------------------+------------------+-----------------------+---------------------+-----+----------+------------|\n",
      "| AIR_HX    | -1.12e+06 | 2.01e+05 | 5.59e+00 | 6.22e+00 | \u001b[94m5.00e+00\u001b[0m |  5.00e+00 | \u001b[94m1.00e+00\u001b[0m | \u001b[94m9.50e-01\u001b[0m | 0.00e+00 | 4.12e-02 | 0.00e+00 | 4.49e+02 |   9.60e-01 |  5.00e-01 |  9.60e-01 |         nan |              nan |            nan |            nan |                 nan |               nan |              nan |                   nan |                 nan | nan | 1.56e+05 |   5.00e+00 |\n",
      "| IHX       | -1.53e+06 | 1.80e+05 | 8.51e+00 | 1.34e+01 | \u001b[94m5.00e+00\u001b[0m |  5.00e+00 | \u001b[94m9.50e-01\u001b[0m | \u001b[94m9.50e-01\u001b[0m | 3.21e-01 | 1.95e-01 | 3.48e+04 | 1.87e+03 |   8.72e-01 |  9.61e-01 |  9.61e-01 |         nan |              nan |            nan |            nan |                 nan |               nan |              nan |                   nan |                 nan | nan | 1.42e+05 |   5.00e+00 |\n",
      "| STEAM_GEN | -2.20e+06 | 3.12e+05 | 7.05e+00 | 9.59e+00 | \u001b[94m5.00e+00\u001b[0m |  5.00e+00 | \u001b[94m9.50e-01\u001b[0m | \u001b[94m1.00e+00\u001b[0m | 9.17e-01 | 0.00e+00 | 6.50e+04 | 0.00e+00 |   9.91e-01 |  9.40e-01 |  9.91e-01 |         nan |              nan |            nan |            nan |                 nan |               nan |              nan |                   nan |                 nan | nan | 3.47e+05 |   5.07e+00 |\n",
      "+-----------+-----------+----------+----------+----------+----------+-----------+----------+----------+----------+----------+----------+----------+------------+-----------+-----------+-------------+------------------+----------------+----------------+---------------------+-------------------+------------------+-----------------------+---------------------+-----+----------+------------+\n",
      "##### RESULTS (Compressor) #####\n",
      "+-------+----------+----------+-----------+----------+--------+\n",
      "|       |        P |       pr |        dp |    eta_s |   igva |\n",
      "|-------+----------+----------+-----------+----------+--------|\n",
      "| COMP1 | 4.09e+05 | 8.19e+00 | -5.63e+00 | \u001b[94m8.00e-01\u001b[0m |    nan |\n",
      "| COMP2 | 6.71e+05 | 4.94e+00 | -1.46e+01 | \u001b[94m8.00e-01\u001b[0m |    nan |\n",
      "+-------+----------+----------+-----------+----------+--------+\n",
      "##### RESULTS (Valve) #####\n",
      "+------+----------+----------+----------+\n",
      "|      |       pr |       dp |     zeta |\n",
      "|------+----------+----------+----------|\n",
      "| VAL1 | 1.35e-01 | 5.27e+00 | 2.19e+05 |\n",
      "| VAL2 | 2.24e-01 | 1.35e+01 | 3.73e+05 |\n",
      "+------+----------+----------+----------+\n",
      "##### RESULTS (CycleCloser) #####\n",
      "+-----+------------------+-------------------+\n",
      "|     |   mass_deviation |   fluid_deviation |\n",
      "|-----+------------------+-------------------|\n",
      "| cc  |         0.00e+00 |          0.00e+00 |\n",
      "| cc2 |         0.00e+00 |          0.00e+00 |\n",
      "+-----+------------------+-------------------+\n",
      "##### RESULTS (Connection) #####\n",
      "+-----+-----------+-----------+-----------+-----------+------------+---------+\n",
      "|     |         m |         p |         h |         T |          x | phase   |\n",
      "|-----+-----------+-----------+-----------+-----------+------------+---------|\n",
      "| 11  | 2.231e+02 | \u001b[94m1.013e+00\u001b[0m | 2.936e+02 | \u001b[94m2.000e+01\u001b[0m |  0.000e+00 | nan     |\n",
      "| 12  | 2.231e+02 | 1.013e+00 | 2.886e+02 | 1.500e+01 |  0.000e+00 | nan     |\n",
      "| 21  | 8.732e+00 | 7.830e-01 | 4.163e+02 | 1.378e+01 |  1.000e+00 | g       |\n",
      "| 22  | 8.732e+00 | 6.414e+00 | 4.632e+02 | 7.652e+01 |  1.000e+00 | g       |\n",
      "| 22c | 8.732e+00 | 6.093e+00 | 2.879e+02 | 6.500e+01 |  0.000e+00 | l       |\n",
      "| 23  | 8.732e+00 | 6.093e+00 | 2.879e+02 | 6.500e+01 |  0.000e+00 | l       |\n",
      "| 24  | 8.732e+00 | 8.242e-01 | 2.879e+02 | 1.000e+01 |  3.729e-01 | tp      |\n",
      "| 31  | 1.821e+01 | 3.713e+00 | 4.799e+02 | 6.316e+01 |  1.000e+00 | g       |\n",
      "| 32  | 1.821e+01 | 1.834e+01 | 5.167e+02 | 1.298e+02 |  1.000e+00 | g       |\n",
      "| 32c | 1.821e+01 | 1.742e+01 | 3.958e+02 | 1.252e+02 | -9.505e-16 | tp      |\n",
      "| 33  | 1.821e+01 | 1.742e+01 | 3.958e+02 | 1.252e+02 |  \u001b[94m0.000e+00\u001b[0m | tp      |\n",
      "| 34  | 1.821e+01 | 3.909e+00 | 3.958e+02 | \u001b[94m6.000e+01\u001b[0m |  5.289e-01 | tp      |\n",
      "| 41  | \u001b[94m1.000e+00\u001b[0m | \u001b[94m2.000e+00\u001b[0m | 5.047e+02 | 1.202e+02 |  \u001b[94m0.000e+00\u001b[0m | tp      |\n",
      "| 42  | 1.000e+00 | 2.000e+00 | 2.706e+03 | 1.202e+02 |  \u001b[94m1.000e+00\u001b[0m | tp      |\n",
      "+-----+-----------+-----------+-----------+-----------+------------+---------+\n",
      "##### RESULTS (Bus: power input) #####\n",
      "+-------+-------------------+-------------+--------------+\n",
      "|       |   component value |   bus value |   efficiency |\n",
      "|-------+-------------------+-------------+--------------|\n",
      "| COMP1 |         4.088e+05 |   4.150e+05 |    9.850e-01 |\n",
      "| COMP2 |         6.709e+05 |   6.812e+05 |    9.850e-01 |\n",
      "| total |         1.080e+06 |   1.096e+06 |  nan         |\n",
      "+-------+-------------------+-------------+--------------+\n",
      "Q =  2201.5 kW\n",
      "COP =  2.008\n",
      "COP1 =  3.745\n",
      "COP2 =  3.281\n"
     ]
    }
   ],
   "source": [
    "from tespy.networks import Network\n",
    "from tespy.connections import Connection, Ref, Bus\n",
    "from tespy.components import Source, Sink, CycleCloser, Compressor, Valve\n",
    "from tespy.components import MovingBoundaryHeatExchanger as HeatExchanger\n",
    "\n",
    "\n",
    "nw = Network(T_unit=\"C\", p_unit=\"bar\", h_unit=\"kJ / kg\", m_unit=\"kg / s\")\n",
    "\n",
    "air_in = Source(\"air inlet\")\n",
    "air_out = Sink(\"air outlet\")\n",
    "\n",
    "water_in = Source(\"water inlet\")\n",
    "water_out = Sink(\"water outlet\")\n",
    "\n",
    "air_hx = HeatExchanger(\"AIR_HX\")\n",
    "comp1 = Compressor(\"COMP1\")\n",
    "valve1 = Valve(\"VAL1\")\n",
    "cc1 = CycleCloser(\"cc\")\n",
    "\n",
    "ihx = HeatExchanger(\"IHX\")\n",
    "\n",
    "steam_gen = HeatExchanger(\"STEAM_GEN\")\n",
    "comp2 = Compressor(\"COMP2\")\n",
    "valve2 = Valve(\"VAL2\")\n",
    "cc2 = CycleCloser(\"cc2\")\n",
    "\n",
    "c11 = Connection(air_in, \"out1\", air_hx, \"in1\", label=\"11\")\n",
    "c12 = Connection(air_hx, \"out1\", air_out, \"in1\", label=\"12\")\n",
    "\n",
    "c21 = Connection(air_hx, \"out2\", comp1, \"in1\", label=\"21\")\n",
    "c22 = Connection(comp1, \"out1\", ihx, \"in1\", label=\"22\")\n",
    "c22c = Connection(ihx, \"out1\", cc1, \"in1\", label=\"22c\")\n",
    "c23 = Connection(cc1, \"out1\", valve1, \"in1\", label=\"23\")\n",
    "c24 = Connection(valve1, \"out1\", air_hx, \"in2\", label=\"24\")\n",
    "\n",
    "c31 = Connection(ihx, \"out2\", comp2, \"in1\", label=\"31\")\n",
    "c32 = Connection(comp2, \"out1\", steam_gen, \"in1\", label=\"32\")\n",
    "c32c = Connection(steam_gen, \"out1\", cc2, \"in1\", label=\"32c\")\n",
    "c33 = Connection(cc2, \"out1\", valve2, \"in1\", label=\"33\")\n",
    "c34 = Connection(valve2, \"out1\", ihx, \"in2\", label=\"34\")\n",
    "\n",
    "c41 = Connection(water_in, \"out1\", steam_gen, \"in2\", label=\"41\")\n",
    "c42 = Connection(steam_gen, \"out2\", water_out, \"in1\", label=\"42\")\n",
    "\n",
    "nw.add_conns(c21, c22, c22c, c23, c24)\n",
    "nw.add_conns(c11, c12)\n",
    "nw.add_conns(c31, c32, c32c, c33, c34)\n",
    "nw.add_conns(c41, c42)\n",
    "\n",
    "# Simulation with starting values\n",
    "\n",
    "c11.set_attr(fluid={\"Ar\": 0.0129, \"CO2\": 0.0005, \"N2\": 0.7552, \"O2\": 0.2314}, T=20, p=1.013)\n",
    "c12.set_attr(T=Ref(c11, 1, -5))\n",
    "\n",
    "c21.set_attr(fluid={\"R245FA\": 1}, h=417)\n",
    "c22.set_attr(p=6.4)\n",
    "c23.set_attr(h=290)\n",
    "c24.set_attr(p=0.823)\n",
    "\n",
    "c31.set_attr(fluid={\"R1233zdE\": 1}, h=451)\n",
    "c32.set_attr(p=17.5)\n",
    "c33.set_attr(h=364)\n",
    "c34.set_attr(p=4.1)\n",
    "\n",
    "c41.set_attr(fluid={\"water\": 1}, p=2, x=0, m=1)\n",
    "c42.set_attr(h=2706)\n",
    "\n",
    "comp1.set_attr(eta_s=0.8)\n",
    "comp2.set_attr(eta_s=0.8)\n",
    "\n",
    "steam_gen.set_attr(pr1=0.95, pr2=1)\n",
    "air_hx.set_attr(pr1=1, pr2=0.95)\n",
    "ihx.set_attr(pr1=0.95, pr2=0.95)\n",
    "\n",
    "# nw.solve(\"design\")\n",
    "\n",
    "# Simulation with fixed values\n",
    "\n",
    "c21.set_attr(h=None, Td_bp=5)\n",
    "c23.set_attr(h=None, Td_bp=-5)\n",
    "c24.set_attr(p=None)\n",
    "\n",
    "c31.set_attr(h=None, Td_bp=5)\n",
    "c32.set_attr(p=None)\n",
    "c33.set_attr(h=None, x=0)\n",
    "c34.set_attr(p=None, T=60)\n",
    "\n",
    "c42.set_attr(h=None, x=1)\n",
    "\n",
    "air_hx.set_attr(ttd_l=5)\n",
    "steam_gen.set_attr(ttd_l=5)\n",
    "\n",
    "nw.solve(\"design\")\n",
    "\n",
    "c22.set_attr(p=None)\n",
    "ihx.set_attr(ttd_l=5)\n",
    "\n",
    "power_input = Bus(\"power input\")\n",
    "power_input.add_comps(\n",
    "    {\"comp\": comp1, \"base\": \"bus\", \"char\": 0.985},\n",
    "    {\"comp\": comp2, \"base\": \"bus\", \"char\": 0.985}\n",
    ")\n",
    "\n",
    "nw.add_busses(power_input)\n",
    "\n",
    "nw.solve(\"design\")\n",
    "nw.print_results()\n",
    "\n",
    "Q_out = c42.m.val * (c42.h.val - c41.h.val)\n",
    "COP2 = c42.m.val * (c42.h.val - c41.h.val) / (comp2.P.val*1e-3)\n",
    "COP1 = c31.m.val * (c31.h.val - c34.h.val) / (comp1.P.val*1e-3)\n",
    "COP = c42.m.val * (c42.h.val - c41.h.val) / (power_input.P.val*1e-3)\n",
    "\n",
    "print(\"Q = \", round(Q_out, 1), \"kW\")\n",
    "print(\"COP = \", round(COP, 3))\n",
    "print(\"COP1 = \", round(COP1, 3))\n",
    "print(\"COP2 = \", round(COP2, 3))\n",
    "\n",
    "# assert convergence of calculation\n",
    "nw.assert_convergence()\n",
    "\n",
    "# ambient conditions\n",
    "p0 = c11.p.val * 1e5\n",
    "T0 = c11.T.val + 273.15\n",
    "\n",
    "# economic parameters\n",
    "# Define the CEPCI values for cost correction.\n",
    "CEPCI_2013 = 567.3\n",
    "CEPCI_2023 = 797.9\n",
    "CEPCI_factor = CEPCI_2023 / CEPCI_2013\n",
    "\n",
    "# Define default values for electricity price and full load hours.\n",
    "default_elec_price = 40.0   # cent/kWh\n",
    "default_tau = 5500          # hours/year\n",
    "\n",
    "# Define economic parameters.\n",
    "r_n = 0.02                  # Cost elevation rate\n",
    "i_eff = 0.08                # Interest rate\n",
    "n = 20                      # Number of years\n",
    "omc_relative = 0.03         # Relative operation and maintenance costs (compared to PEC)\n",
    "\n",
    "fuel = {\n",
    "    \"inputs\": [\n",
    "        'power input__motor_of_COMP1',\n",
    "        'power input__motor_of_COMP2'\n",
    "    ],\n",
    "    \"outputs\": []\n",
    "}\n",
    "\n",
    "product = {\n",
    "    \"inputs\": ['42'],\n",
    "    \"outputs\": ['41']\n",
    "}\n",
    "\n",
    "loss = {\n",
    "    \"inputs\": ['12'],\n",
    "    \"outputs\": ['11']\n",
    "}\n",
    "\n",
    "####################################################"
   ]
  },
  {
   "cell_type": "code",
   "execution_count": 20,
   "metadata": {},
   "outputs": [
    {
     "name": "stderr",
     "output_type": "stream",
     "text": [
      "WARNING:TESPyLogger:Component class Source not available in exerpy.\n",
      "WARNING:TESPyLogger:Component class Sink not available in exerpy.\n",
      "WARNING:root:You haven't provided a chemical exergy library. Chemical exergy values will not be added.\n"
     ]
    }
   ],
   "source": [
    "from exerpy import ExergyAnalysis\n",
    "\n",
    "ean = ExergyAnalysis.from_tespy(nw, Tamb=T0, pamb=p0)\n",
    "ean.analyse(fuel, product, loss)"
   ]
  },
  {
   "cell_type": "code",
   "execution_count": 21,
   "metadata": {},
   "outputs": [],
   "source": [
    "import pandas as pd"
   ]
  },
  {
   "cell_type": "code",
   "execution_count": 22,
   "metadata": {},
   "outputs": [],
   "source": [
    "cols = [\"chemical\", \"physical\", \"massless\"]\n",
    "group_data = {\n",
    "    \"E_F\": pd.DataFrame(columns=[cols])\n",
    "}\n",
    "for label, data in ean._connection_data.items():\n",
    "    if data[\"source_component\"] not in group_data:\n",
    "        group_data[data[\"source_component\"]] = pd.DataFrame(columns=cols)\n",
    "\n",
    "    if \"E_PH\" not in data and \"E_CH\" not in data:\n",
    "        group_data[data[\"source_component\"]].loc[data[\"target_component\"]] = [\n",
    "            0, 0, data.get(\"E\", 0)\n",
    "        ]\n",
    "    else:\n",
    "        group_data[data[\"source_component\"]].loc[data[\"target_component\"]] = [\n",
    "            data.get(\"E_CH\", 0), data.get(\"E_PH\", 0), 0\n",
    "        ]\n",
    "\n",
    "for connlabel in ean.E_F_dict[\"inputs\"]:\n",
    "    group_data[\"E_F\"].loc[ean._connection_data[connlabel][\"target_component\"]] = [0, 0, 0]\n",
    "\n",
    "for component_name, component in ean.components.items():\n",
    "    if not hasattr(component, \"E_D\"):\n",
    "        E_D = 0\n",
    "    else:\n",
    "        E_D = component.E_D\n",
    "    group_data[component_name].loc[\"E_D\"] = [0, 0, E_D]"
   ]
  },
  {
   "cell_type": "code",
   "execution_count": 23,
   "metadata": {},
   "outputs": [],
   "source": [
    "def generate_plotly_sankey_input(\n",
    "        group_data, node_order=[], colors={}, display_thresold=1e-3,\n",
    "        disaggregate_flows=False):\n",
    "\n",
    "\n",
    "\n",
    "    # for fkt_group, data in group_data.copy().items():\n",
    "    #     mask = data.abs().sum(axis=1) >= display_thresold\n",
    "    #     group_data[fkt_group] = group_data[fkt_group].loc[mask]\n",
    "\n",
    "    # self.remove_transit_groups(group_data)\n",
    "\n",
    "    if len(node_order) == 0:\n",
    "        node_order = (\n",
    "            ['E_F']\n",
    "            + list(set([k for data in group_data.values() for k in data.index if k not in [\"E_F\", \"E_P\", \"E_L\", \"E_D\"]] + [k for k in group_data if k not in [\"E_F\", \"E_P\", \"E_L\", \"E_D\"]]))\n",
    "            + ['E_P', 'E_L', 'E_D']\n",
    "        )\n",
    "    else:\n",
    "        missing = []\n",
    "        for node in group_data:\n",
    "            if node not in node_order:\n",
    "                missing += [node]\n",
    "\n",
    "        # if len(missing) > 0:\n",
    "        #     msg = (\n",
    "        #         'The list of nodes passed is missing the following '\n",
    "        #         'nodes: \"' + '\", \"'.join(missing) + '\".')\n",
    "        #     logger.error(msg)\n",
    "        #     raise ValueError(msg)\n",
    "\n",
    "    # colordict = {\n",
    "    #     \"E_F\": \"rgba(242, 142, 43, 0.90)\",\n",
    "    #     \"E_P\": \"rgba(118, 183, 178, 0.90)\",\n",
    "    #     \"E_D\": \"rgba(176, 122, 161, 0.90)\",\n",
    "    #     \"E_L\": \"rgba(156, 117, 95, 0.90)\",\n",
    "    #     \"combustion-gas\": \"rgba(237, 201, 72, 0.90)\",\n",
    "    #     \"non-combustion-gas\": \"rgba(186, 176, 172, 0.90)\",\n",
    "    #     \"two-phase-fluid\": \"rgba(89, 161, 79, 0.90)\",\n",
    "    #     \"incompressible\": \"rgba(255, 157, 167, 0.90)\",\n",
    "    #     \"work\": \"rgba(78, 121, 167, 0.90)\",\n",
    "    #     \"heat\": \"rgba(225, 87, 89, 0.90)\",\n",
    "    #     np.nan: \"rgba(100, 100, 100, 1.00)\"\n",
    "    # }\n",
    "    # colordict.update(colors)\n",
    "\n",
    "    links = {\n",
    "        'source': [],\n",
    "        'target': [],\n",
    "        'value': [],\n",
    "        'color': []\n",
    "    }\n",
    "    for fkt_group, data in group_data.items():\n",
    "        source_id = node_order.index(fkt_group)\n",
    "        for target in data.index:\n",
    "            for col in data.columns:\n",
    "                # how to aggregate here?\n",
    "                if data.loc[target, col] > 0.:\n",
    "                    links['source'] += [source_id]\n",
    "                    links['target'] += [node_order.index(target)]\n",
    "                    links['value'] += [data.loc[target, col]]\n",
    "                    # links['color'].append(colordict[target[1]])\n",
    "\n",
    "    return links, node_order"
   ]
  },
  {
   "cell_type": "code",
   "execution_count": 24,
   "metadata": {},
   "outputs": [],
   "source": [
    "links, nodes = generate_plotly_sankey_input(group_data)"
   ]
  },
  {
   "cell_type": "code",
   "execution_count": 25,
   "metadata": {},
   "outputs": [],
   "source": [
    "import plotly.graph_objects as go"
   ]
  },
  {
   "cell_type": "code",
   "execution_count": 26,
   "metadata": {},
   "outputs": [],
   "source": [
    "fig = go.Figure(go.Sankey(\n",
    "    arrangement=\"snap\",\n",
    "    node={\n",
    "        \"label\": nodes,\n",
    "        'pad': 11,\n",
    "        'color': 'orange'},\n",
    "    link=links))\n",
    "# fig"
   ]
  },
  {
   "cell_type": "code",
   "execution_count": 27,
   "metadata": {},
   "outputs": [
    {
     "data": {
      "application/vnd.plotly.v1+json": {
       "config": {
        "plotlyServerURL": "https://plot.ly"
       },
       "data": [
        {
         "arrangement": "snap",
         "link": {
          "color": [],
          "source": [
           14,
           14,
           16,
           16,
           10,
           10,
           10,
           13,
           11,
           11,
           4,
           4,
           3,
           3,
           3,
           7,
           5,
           5,
           1,
           15,
           15,
           12,
           12,
           2,
           2
          ],
          "target": [
           9,
           19,
           10,
           19,
           13,
           4,
           19,
           11,
           14,
           19,
           3,
           19,
           7,
           8,
           19,
           5,
           10,
           19,
           3,
           12,
           2,
           16,
           19,
           4,
           19
          ],
          "value": [
           9677.007797418195,
           37601.6902699215,
           300574.87972063257,
           69205.10353326151,
           70535.39014312829,
           448908.49916510266,
           61599.50501571444,
           70535.39014312829,
           8303.413889394014,
           62231.97625373427,
           1021840.8188718485,
           98002.13010766811,
           428327.23614312685,
           619882.3478163349,
           32665.69263601117,
           428327.23614312685,
           280468.5146033129,
           147858.721539814,
           59034.4577236245,
           414979.9669358779,
           681151.7256999126,
           408755.2674318397,
           6224.699504038203,
           670934.4498144139,
           10217.275885498733
          ]
         },
         "node": {
          "color": "orange",
          "label": [
           "E_F",
           "water inlet",
           "motor_of_COMP2",
           "STEAM_GEN",
           "COMP2",
           "VAL2",
           "air inlet",
           "cc2",
           "water outlet",
           "air outlet",
           "IHX",
           "VAL1",
           "motor_of_COMP1",
           "cc",
           "AIR_HX",
           "power input",
           "COMP1",
           "E_P",
           "E_L",
           "E_D"
          ],
          "pad": 11
         },
         "type": "sankey"
        }
       ],
       "layout": {
        "template": {
         "data": {
          "bar": [
           {
            "error_x": {
             "color": "#2a3f5f"
            },
            "error_y": {
             "color": "#2a3f5f"
            },
            "marker": {
             "line": {
              "color": "#E5ECF6",
              "width": 0.5
             },
             "pattern": {
              "fillmode": "overlay",
              "size": 10,
              "solidity": 0.2
             }
            },
            "type": "bar"
           }
          ],
          "barpolar": [
           {
            "marker": {
             "line": {
              "color": "#E5ECF6",
              "width": 0.5
             },
             "pattern": {
              "fillmode": "overlay",
              "size": 10,
              "solidity": 0.2
             }
            },
            "type": "barpolar"
           }
          ],
          "carpet": [
           {
            "aaxis": {
             "endlinecolor": "#2a3f5f",
             "gridcolor": "white",
             "linecolor": "white",
             "minorgridcolor": "white",
             "startlinecolor": "#2a3f5f"
            },
            "baxis": {
             "endlinecolor": "#2a3f5f",
             "gridcolor": "white",
             "linecolor": "white",
             "minorgridcolor": "white",
             "startlinecolor": "#2a3f5f"
            },
            "type": "carpet"
           }
          ],
          "choropleth": [
           {
            "colorbar": {
             "outlinewidth": 0,
             "ticks": ""
            },
            "type": "choropleth"
           }
          ],
          "contour": [
           {
            "colorbar": {
             "outlinewidth": 0,
             "ticks": ""
            },
            "colorscale": [
             [
              0,
              "#0d0887"
             ],
             [
              0.1111111111111111,
              "#46039f"
             ],
             [
              0.2222222222222222,
              "#7201a8"
             ],
             [
              0.3333333333333333,
              "#9c179e"
             ],
             [
              0.4444444444444444,
              "#bd3786"
             ],
             [
              0.5555555555555556,
              "#d8576b"
             ],
             [
              0.6666666666666666,
              "#ed7953"
             ],
             [
              0.7777777777777778,
              "#fb9f3a"
             ],
             [
              0.8888888888888888,
              "#fdca26"
             ],
             [
              1,
              "#f0f921"
             ]
            ],
            "type": "contour"
           }
          ],
          "contourcarpet": [
           {
            "colorbar": {
             "outlinewidth": 0,
             "ticks": ""
            },
            "type": "contourcarpet"
           }
          ],
          "heatmap": [
           {
            "colorbar": {
             "outlinewidth": 0,
             "ticks": ""
            },
            "colorscale": [
             [
              0,
              "#0d0887"
             ],
             [
              0.1111111111111111,
              "#46039f"
             ],
             [
              0.2222222222222222,
              "#7201a8"
             ],
             [
              0.3333333333333333,
              "#9c179e"
             ],
             [
              0.4444444444444444,
              "#bd3786"
             ],
             [
              0.5555555555555556,
              "#d8576b"
             ],
             [
              0.6666666666666666,
              "#ed7953"
             ],
             [
              0.7777777777777778,
              "#fb9f3a"
             ],
             [
              0.8888888888888888,
              "#fdca26"
             ],
             [
              1,
              "#f0f921"
             ]
            ],
            "type": "heatmap"
           }
          ],
          "histogram": [
           {
            "marker": {
             "pattern": {
              "fillmode": "overlay",
              "size": 10,
              "solidity": 0.2
             }
            },
            "type": "histogram"
           }
          ],
          "histogram2d": [
           {
            "colorbar": {
             "outlinewidth": 0,
             "ticks": ""
            },
            "colorscale": [
             [
              0,
              "#0d0887"
             ],
             [
              0.1111111111111111,
              "#46039f"
             ],
             [
              0.2222222222222222,
              "#7201a8"
             ],
             [
              0.3333333333333333,
              "#9c179e"
             ],
             [
              0.4444444444444444,
              "#bd3786"
             ],
             [
              0.5555555555555556,
              "#d8576b"
             ],
             [
              0.6666666666666666,
              "#ed7953"
             ],
             [
              0.7777777777777778,
              "#fb9f3a"
             ],
             [
              0.8888888888888888,
              "#fdca26"
             ],
             [
              1,
              "#f0f921"
             ]
            ],
            "type": "histogram2d"
           }
          ],
          "histogram2dcontour": [
           {
            "colorbar": {
             "outlinewidth": 0,
             "ticks": ""
            },
            "colorscale": [
             [
              0,
              "#0d0887"
             ],
             [
              0.1111111111111111,
              "#46039f"
             ],
             [
              0.2222222222222222,
              "#7201a8"
             ],
             [
              0.3333333333333333,
              "#9c179e"
             ],
             [
              0.4444444444444444,
              "#bd3786"
             ],
             [
              0.5555555555555556,
              "#d8576b"
             ],
             [
              0.6666666666666666,
              "#ed7953"
             ],
             [
              0.7777777777777778,
              "#fb9f3a"
             ],
             [
              0.8888888888888888,
              "#fdca26"
             ],
             [
              1,
              "#f0f921"
             ]
            ],
            "type": "histogram2dcontour"
           }
          ],
          "mesh3d": [
           {
            "colorbar": {
             "outlinewidth": 0,
             "ticks": ""
            },
            "type": "mesh3d"
           }
          ],
          "parcoords": [
           {
            "line": {
             "colorbar": {
              "outlinewidth": 0,
              "ticks": ""
             }
            },
            "type": "parcoords"
           }
          ],
          "pie": [
           {
            "automargin": true,
            "type": "pie"
           }
          ],
          "scatter": [
           {
            "fillpattern": {
             "fillmode": "overlay",
             "size": 10,
             "solidity": 0.2
            },
            "type": "scatter"
           }
          ],
          "scatter3d": [
           {
            "line": {
             "colorbar": {
              "outlinewidth": 0,
              "ticks": ""
             }
            },
            "marker": {
             "colorbar": {
              "outlinewidth": 0,
              "ticks": ""
             }
            },
            "type": "scatter3d"
           }
          ],
          "scattercarpet": [
           {
            "marker": {
             "colorbar": {
              "outlinewidth": 0,
              "ticks": ""
             }
            },
            "type": "scattercarpet"
           }
          ],
          "scattergeo": [
           {
            "marker": {
             "colorbar": {
              "outlinewidth": 0,
              "ticks": ""
             }
            },
            "type": "scattergeo"
           }
          ],
          "scattergl": [
           {
            "marker": {
             "colorbar": {
              "outlinewidth": 0,
              "ticks": ""
             }
            },
            "type": "scattergl"
           }
          ],
          "scattermap": [
           {
            "marker": {
             "colorbar": {
              "outlinewidth": 0,
              "ticks": ""
             }
            },
            "type": "scattermap"
           }
          ],
          "scattermapbox": [
           {
            "marker": {
             "colorbar": {
              "outlinewidth": 0,
              "ticks": ""
             }
            },
            "type": "scattermapbox"
           }
          ],
          "scatterpolar": [
           {
            "marker": {
             "colorbar": {
              "outlinewidth": 0,
              "ticks": ""
             }
            },
            "type": "scatterpolar"
           }
          ],
          "scatterpolargl": [
           {
            "marker": {
             "colorbar": {
              "outlinewidth": 0,
              "ticks": ""
             }
            },
            "type": "scatterpolargl"
           }
          ],
          "scatterternary": [
           {
            "marker": {
             "colorbar": {
              "outlinewidth": 0,
              "ticks": ""
             }
            },
            "type": "scatterternary"
           }
          ],
          "surface": [
           {
            "colorbar": {
             "outlinewidth": 0,
             "ticks": ""
            },
            "colorscale": [
             [
              0,
              "#0d0887"
             ],
             [
              0.1111111111111111,
              "#46039f"
             ],
             [
              0.2222222222222222,
              "#7201a8"
             ],
             [
              0.3333333333333333,
              "#9c179e"
             ],
             [
              0.4444444444444444,
              "#bd3786"
             ],
             [
              0.5555555555555556,
              "#d8576b"
             ],
             [
              0.6666666666666666,
              "#ed7953"
             ],
             [
              0.7777777777777778,
              "#fb9f3a"
             ],
             [
              0.8888888888888888,
              "#fdca26"
             ],
             [
              1,
              "#f0f921"
             ]
            ],
            "type": "surface"
           }
          ],
          "table": [
           {
            "cells": {
             "fill": {
              "color": "#EBF0F8"
             },
             "line": {
              "color": "white"
             }
            },
            "header": {
             "fill": {
              "color": "#C8D4E3"
             },
             "line": {
              "color": "white"
             }
            },
            "type": "table"
           }
          ]
         },
         "layout": {
          "annotationdefaults": {
           "arrowcolor": "#2a3f5f",
           "arrowhead": 0,
           "arrowwidth": 1
          },
          "autotypenumbers": "strict",
          "coloraxis": {
           "colorbar": {
            "outlinewidth": 0,
            "ticks": ""
           }
          },
          "colorscale": {
           "diverging": [
            [
             0,
             "#8e0152"
            ],
            [
             0.1,
             "#c51b7d"
            ],
            [
             0.2,
             "#de77ae"
            ],
            [
             0.3,
             "#f1b6da"
            ],
            [
             0.4,
             "#fde0ef"
            ],
            [
             0.5,
             "#f7f7f7"
            ],
            [
             0.6,
             "#e6f5d0"
            ],
            [
             0.7,
             "#b8e186"
            ],
            [
             0.8,
             "#7fbc41"
            ],
            [
             0.9,
             "#4d9221"
            ],
            [
             1,
             "#276419"
            ]
           ],
           "sequential": [
            [
             0,
             "#0d0887"
            ],
            [
             0.1111111111111111,
             "#46039f"
            ],
            [
             0.2222222222222222,
             "#7201a8"
            ],
            [
             0.3333333333333333,
             "#9c179e"
            ],
            [
             0.4444444444444444,
             "#bd3786"
            ],
            [
             0.5555555555555556,
             "#d8576b"
            ],
            [
             0.6666666666666666,
             "#ed7953"
            ],
            [
             0.7777777777777778,
             "#fb9f3a"
            ],
            [
             0.8888888888888888,
             "#fdca26"
            ],
            [
             1,
             "#f0f921"
            ]
           ],
           "sequentialminus": [
            [
             0,
             "#0d0887"
            ],
            [
             0.1111111111111111,
             "#46039f"
            ],
            [
             0.2222222222222222,
             "#7201a8"
            ],
            [
             0.3333333333333333,
             "#9c179e"
            ],
            [
             0.4444444444444444,
             "#bd3786"
            ],
            [
             0.5555555555555556,
             "#d8576b"
            ],
            [
             0.6666666666666666,
             "#ed7953"
            ],
            [
             0.7777777777777778,
             "#fb9f3a"
            ],
            [
             0.8888888888888888,
             "#fdca26"
            ],
            [
             1,
             "#f0f921"
            ]
           ]
          },
          "colorway": [
           "#636efa",
           "#EF553B",
           "#00cc96",
           "#ab63fa",
           "#FFA15A",
           "#19d3f3",
           "#FF6692",
           "#B6E880",
           "#FF97FF",
           "#FECB52"
          ],
          "font": {
           "color": "#2a3f5f"
          },
          "geo": {
           "bgcolor": "white",
           "lakecolor": "white",
           "landcolor": "#E5ECF6",
           "showlakes": true,
           "showland": true,
           "subunitcolor": "white"
          },
          "hoverlabel": {
           "align": "left"
          },
          "hovermode": "closest",
          "mapbox": {
           "style": "light"
          },
          "paper_bgcolor": "white",
          "plot_bgcolor": "#E5ECF6",
          "polar": {
           "angularaxis": {
            "gridcolor": "white",
            "linecolor": "white",
            "ticks": ""
           },
           "bgcolor": "#E5ECF6",
           "radialaxis": {
            "gridcolor": "white",
            "linecolor": "white",
            "ticks": ""
           }
          },
          "scene": {
           "xaxis": {
            "backgroundcolor": "#E5ECF6",
            "gridcolor": "white",
            "gridwidth": 2,
            "linecolor": "white",
            "showbackground": true,
            "ticks": "",
            "zerolinecolor": "white"
           },
           "yaxis": {
            "backgroundcolor": "#E5ECF6",
            "gridcolor": "white",
            "gridwidth": 2,
            "linecolor": "white",
            "showbackground": true,
            "ticks": "",
            "zerolinecolor": "white"
           },
           "zaxis": {
            "backgroundcolor": "#E5ECF6",
            "gridcolor": "white",
            "gridwidth": 2,
            "linecolor": "white",
            "showbackground": true,
            "ticks": "",
            "zerolinecolor": "white"
           }
          },
          "shapedefaults": {
           "line": {
            "color": "#2a3f5f"
           }
          },
          "ternary": {
           "aaxis": {
            "gridcolor": "white",
            "linecolor": "white",
            "ticks": ""
           },
           "baxis": {
            "gridcolor": "white",
            "linecolor": "white",
            "ticks": ""
           },
           "bgcolor": "#E5ECF6",
           "caxis": {
            "gridcolor": "white",
            "linecolor": "white",
            "ticks": ""
           }
          },
          "title": {
           "x": 0.05
          },
          "xaxis": {
           "automargin": true,
           "gridcolor": "white",
           "linecolor": "white",
           "ticks": "",
           "title": {
            "standoff": 15
           },
           "zerolinecolor": "white",
           "zerolinewidth": 2
          },
          "yaxis": {
           "automargin": true,
           "gridcolor": "white",
           "linecolor": "white",
           "ticks": "",
           "title": {
            "standoff": 15
           },
           "zerolinecolor": "white",
           "zerolinewidth": 2
          }
         }
        }
       }
      }
     },
     "metadata": {},
     "output_type": "display_data"
    }
   ],
   "source": [
    "fig"
   ]
  }
 ],
 "metadata": {
  "kernelspec": {
   "display_name": "exerpy-env",
   "language": "python",
   "name": "python3"
  },
  "language_info": {
   "codemirror_mode": {
    "name": "ipython",
    "version": 3
   },
   "file_extension": ".py",
   "mimetype": "text/x-python",
   "name": "python",
   "nbconvert_exporter": "python",
   "pygments_lexer": "ipython3",
   "version": "3.11.11"
  }
 },
 "nbformat": 4,
 "nbformat_minor": 2
}
