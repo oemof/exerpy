{
 "cells": [
  {
   "cell_type": "code",
   "execution_count": null,
   "metadata": {},
   "outputs": [],
   "source": [
    "group_data = {}\n",
    "for label, data in ean._connection_data.items():\n",
    "    if data[\"source_component\"] not in group_data:\n",
    "        group_data[data[\"source_component\"]] = pd.DataFrame(columns=[\"chemical\", \"physical\", \"massless\"])\n",
    "\n",
    "    group_data[data[\"source_component\"]].loc[data[\"target_component\"]] = [data.get(\"E_CH\", 0), data.get(\"E_PH\", 0), data.get(\"E\", 0)]\n",
    "\n",
    "for connlabel in ean.E_F_dict[\"inputs\"]:\n",
    "    group_data[\"E_F\"].loc[ean._connection_data[connlabel][\"target_component\"]] = [0, 0, 0]\n",
    "\n",
    "for component_name, component in ean.components.items():\n",
    "    if not hasattr(component, \"E_D\"):\n",
    "        E_D = 0\n",
    "    else:\n",
    "        E_D = component.E_D\n",
    "    group_data[component_name].loc[\"E_D\"] = [0, 0, E_D]"
   ]
  }
 ],
 "metadata": {
  "kernelspec": {
   "display_name": "tespy-env",
   "language": "python",
   "name": "python3"
  },
  "language_info": {
   "codemirror_mode": {
    "name": "ipython",
    "version": 3
   },
   "file_extension": ".py",
   "mimetype": "text/x-python",
   "name": "python",
   "nbconvert_exporter": "python",
   "pygments_lexer": "ipython3",
   "version": "3.11.11"
  }
 },
 "nbformat": 4,
 "nbformat_minor": 2
}
